{
 "cells": [
  {
   "cell_type": "markdown",
   "metadata": {},
   "source": [
    "# PyTorch: CUDA vs CPU"
   ]
  },
  {
   "cell_type": "markdown",
   "metadata": {},
   "source": [
    "Step 1: importing libraries, and checking if CUDA is available"
   ]
  },
  {
   "cell_type": "code",
   "execution_count": 1,
   "metadata": {},
   "outputs": [],
   "source": [
    "import sys"
   ]
  },
  {
   "cell_type": "code",
   "execution_count": 2,
   "metadata": {},
   "outputs": [],
   "source": [
    "import torch\n",
    "import torch.nn as nn\n",
    "import torch.optim as optim\n",
    "import torchvision\n",
    "import torchvision.transforms as transforms\n",
    "from torch.utils.data import DataLoader\n",
    "import time"
   ]
  },
  {
   "cell_type": "code",
   "execution_count": 3,
   "metadata": {},
   "outputs": [
    {
     "name": "stdout",
     "output_type": "stream",
     "text": [
      "cuda\n"
     ]
    }
   ],
   "source": [
    "device = torch.device(\"cuda\" if torch.cuda.is_available() else \"cpu\")\n",
    "print(device)"
   ]
  },
  {
   "cell_type": "markdown",
   "metadata": {},
   "source": [
    "Step 2: Prepare dataset + Define the architecture"
   ]
  },
  {
   "cell_type": "code",
   "execution_count": 4,
   "metadata": {},
   "outputs": [],
   "source": [
    "# Hyperparameters\n",
    "num_epochs = 3\n",
    "batch_size = 64\n",
    "learning_rate = 0.0002\n",
    "latent_size = 64\n",
    "image_size = 784\n",
    "hidden_size = 256\n",
    "\n",
    "# Load the MNIST dataset\n",
    "transform = transforms.Compose([\n",
    "\ttransforms.ToTensor(),\n",
    "\ttransforms.Normalize((0.5,), (0.5,))\n",
    "])\n",
    "\n",
    "train_dataset = torchvision.datasets.MNIST(root=\"./data/\", train=True, transform=transform, download=True)\n",
    "train_loader = DataLoader(train_dataset, batch_size=batch_size, shuffle=True)"
   ]
  },
  {
   "cell_type": "code",
   "execution_count": 5,
   "metadata": {},
   "outputs": [],
   "source": [
    "class Generator(nn.Module):\n",
    "    def __init__(self, latent_size, hidden_size, image_size):\n",
    "        super(Generator, self).__init__()\n",
    "        self.main = nn.Sequential(\n",
    "            nn.Linear(latent_size, hidden_size),\n",
    "            nn.ReLU(),\n",
    "            nn.Linear(hidden_size, hidden_size),\n",
    "            nn.ReLU(),\n",
    "            nn.Linear(hidden_size, image_size),\n",
    "            nn.Tanh()  # Output pixel values in range [-1, 1]\n",
    "        )\n",
    "\n",
    "    def forward(self, x):\n",
    "        return self.main(x)\n",
    "\n",
    "class Discriminator(nn.Module):\n",
    "    def __init__(self, image_size, hidden_size):\n",
    "        super(Discriminator, self).__init__()\n",
    "        self.main = nn.Sequential(\n",
    "            nn.Linear(image_size, hidden_size),\n",
    "            nn.LeakyReLU(0.2),\n",
    "            nn.Linear(hidden_size, hidden_size),\n",
    "            nn.LeakyReLU(0.2),\n",
    "            nn.Linear(hidden_size, 1),\n",
    "            nn.Sigmoid()  # Output probability of being real\n",
    "        )\n",
    "\n",
    "    def forward(self, x):\n",
    "        return self.main(x)"
   ]
  },
  {
   "cell_type": "markdown",
   "metadata": {},
   "source": [
    "Step 3: Function to train the model"
   ]
  },
  {
   "cell_type": "code",
   "execution_count": 6,
   "metadata": {},
   "outputs": [],
   "source": [
    "def train_model(device, num_epochs=3):\n",
    "\t\n",
    "\tgenerator = Generator(latent_size, hidden_size, image_size).to(device)\n",
    "\tdiscriminator = Discriminator(image_size, hidden_size).to(device)\n",
    "\tcriterion = nn.BCELoss()\n",
    "\toptimizer_g = optim.Adam(generator.parameters(), lr=learning_rate)\n",
    "\toptimizer_d = optim.Adam(discriminator.parameters(), lr=learning_rate)\n",
    "\n",
    "\tfor epoch in range(num_epochs):\n",
    "\t\tfor i, (real_images, _) in enumerate(train_loader):\n",
    "\t\t\tbatch_size = real_images.size(0)\n",
    "\t\t\treal_images = real_images.view(batch_size, -1).to(device)\n",
    "\n",
    "\t\t\t# Labels for real and fake images\n",
    "\t\t\treal_labels = torch.ones(batch_size, 1).to(device)\n",
    "\t\t\tfake_labels = torch.zeros(batch_size, 1).to(device)\n",
    "\n",
    "\t\t\t# Train the discriminator\n",
    "\t\t\t\t# Real images\n",
    "\t\t\toutputs = discriminator(real_images)\n",
    "\t\t\tloss_real = criterion(outputs, real_labels)\n",
    "\t\t\treal_score = outputs\n",
    "\n",
    "\t\t\t\t# Fake images\n",
    "\t\t\tz = torch.randn(batch_size, latent_size).to(device)\n",
    "\t\t\tfake_images = generator(z)\n",
    "\t\t\toutputs = discriminator(fake_images)\n",
    "\t\t\tloss_fake = criterion(outputs, fake_labels)\n",
    "\t\t\tfake_score = outputs\n",
    "\n",
    "\t\t\t# Total discriminator loss\n",
    "\t\t\tloss_d = loss_real + loss_fake\n",
    "\t\t\toptimizer_d.zero_grad()\n",
    "\t\t\tloss_d.backward()\n",
    "\t\t\toptimizer_d.step()\n",
    "\n",
    "\n",
    "\t\t\t# Train the generator\n",
    "\t\t\tz = torch.randn(batch_size, latent_size).to(device)\n",
    "\t\t\tfake_images = generator(z)\n",
    "\t\t\toutputs = discriminator(fake_images)\n",
    "\t\t\tloss_g = criterion(outputs, real_labels)\n",
    "\t\t\toptimizer_g.zero_grad()\n",
    "\t\t\tloss_g.backward()\n",
    "\t\t\toptimizer_g.step()\n",
    "\n",
    "\t\t\t# Log progress\n",
    "\t\t\tsys.stdout.write(f'\\rEpoch [{epoch+1}/{num_epochs}], Batch [{i+1}/{len(train_loader)}], '\n",
    "                             f'Loss_D: {loss_d.item():.4f}, Loss_G: {loss_g.item():.4f}')\n",
    "\t\t\tsys.stdout.flush()"
   ]
  },
  {
   "cell_type": "markdown",
   "metadata": {},
   "source": [
    "Step 4: Timing function\n"
   ]
  },
  {
   "cell_type": "code",
   "execution_count": 7,
   "metadata": {},
   "outputs": [],
   "source": [
    "def time_training(device):\n",
    "    start_time = time.time()\n",
    "    train_model(device, num_epochs=num_epochs)\n",
    "    end_time = time.time()\n",
    "    return end_time - start_time"
   ]
  },
  {
   "cell_type": "markdown",
   "metadata": {},
   "source": [
    "## Comparison of `CPU` vs `CUDA`"
   ]
  },
  {
   "cell_type": "markdown",
   "metadata": {},
   "source": [
    "Train on CPU"
   ]
  },
  {
   "cell_type": "code",
   "execution_count": 8,
   "metadata": {},
   "outputs": [
    {
     "name": "stdout",
     "output_type": "stream",
     "text": [
      "Training on CPU\n",
      "Epoch [3/3], Batch [938/938], Loss_D: 0.3493, Loss_G: 2.7791\n",
      "CPU training time: 57.9113 seconds\n"
     ]
    }
   ],
   "source": [
    "print(\"Training on CPU\")\n",
    "cpu_time = time_training(torch.device(\"cpu\"))\n",
    "print(f\"\\nCPU training time: {cpu_time:.4f} seconds\")"
   ]
  },
  {
   "cell_type": "markdown",
   "metadata": {},
   "source": [
    "Train on GPU (if available)"
   ]
  },
  {
   "cell_type": "code",
   "execution_count": 9,
   "metadata": {},
   "outputs": [
    {
     "name": "stdout",
     "output_type": "stream",
     "text": [
      "Training on GPU\n",
      "Epoch [3/3], Batch [938/938], Loss_D: 0.3088, Loss_G: 2.3058\n",
      "GPU training time: 48.3173 seconds\n"
     ]
    }
   ],
   "source": [
    "if torch.cuda.is_available():\n",
    "    print(\"Training on GPU\")\n",
    "    gpu_time = time_training(torch.device(\"cuda\"))\n",
    "    print(f\"\\nGPU training time: {gpu_time:.4f} seconds\")\n",
    "else:\n",
    "    print(\"\\nGPU is not available.\")"
   ]
  },
  {
   "cell_type": "markdown",
   "metadata": {},
   "source": [
    "Difference"
   ]
  },
  {
   "cell_type": "code",
   "execution_count": 10,
   "metadata": {},
   "outputs": [
    {
     "name": "stdout",
     "output_type": "stream",
     "text": [
      "GPU is 19.86% faster than CPU.\n"
     ]
    }
   ],
   "source": [
    "print(f\"GPU is {((cpu_time / gpu_time)-1)*100:.2f}% faster than CPU.\")"
   ]
  }
 ],
 "metadata": {
  "kernelspec": {
   "display_name": "Python 3",
   "language": "python",
   "name": "python3"
  },
  "language_info": {
   "codemirror_mode": {
    "name": "ipython",
    "version": 3
   },
   "file_extension": ".py",
   "mimetype": "text/x-python",
   "name": "python",
   "nbconvert_exporter": "python",
   "pygments_lexer": "ipython3",
   "version": "3.12.7"
  }
 },
 "nbformat": 4,
 "nbformat_minor": 2
}
